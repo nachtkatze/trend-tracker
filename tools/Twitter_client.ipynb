{
 "metadata": {
  "name": "",
  "signature": "sha256:fd5b0d15e4a6b8fac0c6f09a52fab6e307e18aabf125f2df096c0b15e235c5b8"
 },
 "nbformat": 3,
 "nbformat_minor": 0,
 "worksheets": [
  {
   "cells": [
    {
     "cell_type": "code",
     "collapsed": false,
     "input": [
      "import config\n",
      "import codecs\n",
      "import json\n",
      "import pickle\n",
      "from twython import Twython"
     ],
     "language": "python",
     "metadata": {},
     "outputs": [],
     "prompt_number": 1
    },
    {
     "cell_type": "code",
     "collapsed": false,
     "input": [
      "CONSUMER_KEY, CONSUMER_SECRET = config.CONSUMER_KEY, config.CONSUMER_SECRET"
     ],
     "language": "python",
     "metadata": {},
     "outputs": [],
     "prompt_number": 2
    },
    {
     "cell_type": "code",
     "collapsed": false,
     "input": [
      "OAUTH_TOKEN = \"310233968-tWPrrvKVncKLP9J96U37zZhYHKvqqcChAryJVpaF\"\n",
      "OAUTH_TOKEN_SECRET = \"AJgOJYytd6dkWh1SzWASym6qNmeTAq44508odI4G7ZfFP\""
     ],
     "language": "python",
     "metadata": {},
     "outputs": [],
     "prompt_number": 3
    },
    {
     "cell_type": "code",
     "collapsed": false,
     "input": [
      "tweets_jsfile = \"/home/oscar/trend-tracker/js/tweets.js\"\n",
      "temp_tweets_pickle = \"/home/oscar/trend-tracker/tools/temp_tweets.pickle\"\n",
      "tweets_pickle = \"/home/oscar/trend-tracker/tools/tweets.pickle\""
     ],
     "language": "python",
     "metadata": {},
     "outputs": [],
     "prompt_number": 19
    },
    {
     "cell_type": "code",
     "collapsed": false,
     "input": [
      "twitter = Twython(CONSUMER_KEY, CONSUMER_SECRET, OAUTH_TOKEN, OAUTH_TOKEN_SECRET)"
     ],
     "language": "python",
     "metadata": {},
     "outputs": [],
     "prompt_number": 5
    },
    {
     "cell_type": "code",
     "collapsed": false,
     "input": [
      "query = \"data mining\"\n",
      "result_type = \"mixed\""
     ],
     "language": "python",
     "metadata": {},
     "outputs": [],
     "prompt_number": 27
    },
    {
     "cell_type": "code",
     "collapsed": false,
     "input": [
      "tweets = twitter.search(q=query, count=100, result_type=result_type)\n",
      "print len(tweets['statuses'])"
     ],
     "language": "python",
     "metadata": {},
     "outputs": [
      {
       "output_type": "stream",
       "stream": "stdout",
       "text": [
        "100\n"
       ]
      }
     ],
     "prompt_number": 28
    },
    {
     "cell_type": "code",
     "collapsed": false,
     "input": [
      "with open(tweets_pickle, 'r') as f:\n",
      "    tweets_db = pickle.load(f)\n",
      "\n",
      "tweets_db.extend(tweets['statuses'])\n",
      "#tweets_db = tweets['statuses']\n",
      "with open(tweets_pickle, 'w') as f1:\n",
      "    pickle.dump(tweets_db, f1)\n",
      "    \n",
      "tweets_json = json.dumps(tweets_db)\n",
      "with codecs.open(tweets_jsfile, 'w', 'utf-8') as f1:\n",
      "    f1.write('var tweets = '+tweets_json)"
     ],
     "language": "python",
     "metadata": {},
     "outputs": [],
     "prompt_number": 29
    }
   ],
   "metadata": {}
  }
 ]
}