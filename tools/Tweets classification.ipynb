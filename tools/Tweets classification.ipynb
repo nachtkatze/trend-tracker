{
 "metadata": {
  "name": "",
  "signature": "sha256:f8df156ebfd5df96997987e8918238b19bf190396e9440c45813f16c9c1321c4"
 },
 "nbformat": 3,
 "nbformat_minor": 0,
 "worksheets": [
  {
   "cells": [
    {
     "cell_type": "code",
     "collapsed": false,
     "input": [
      "import requests\n",
      "import json\n",
      "import pickle\n",
      "import codecs\n",
      "import sys"
     ],
     "language": "python",
     "metadata": {},
     "outputs": [],
     "prompt_number": 64
    },
    {
     "cell_type": "code",
     "collapsed": false,
     "input": [
      "service = \"http://www.sentiment140.com/api/bulkClassifyJson\"\n",
      "tweets_pickle = \"/home/oscar/trend-tracker/tools/tweets.pickle\"\n",
      "tweets_jsfile = \"/home/oscar/trend-tracker/js/tweets.js\""
     ],
     "language": "python",
     "metadata": {},
     "outputs": [],
     "prompt_number": 77
    },
    {
     "cell_type": "code",
     "collapsed": false,
     "input": [
      "with open(tweets_pickle, 'r') as f:\n",
      "    tweets_db = pickle.load(f)\n",
      "print 'N\u00ba of tweets:', len(tweets_db)\n",
      "\n",
      "total = len(tweets_db)\n",
      "for i, tweet in enumerate(tweets_db):\n",
      "    request_data = { 'data':[ {'text': tweet['text']} ]}\n",
      "    request_data = json.dumps(request_data)\n",
      "    req = requests.post(service, data=request_data)\n",
      "    req = req.json()\n",
      "    progress = str( (float(i+1)/float(total)) * 100 ) +'\\t'\n",
      "    sys.stdout.write(progress)\n",
      "    sys.stdout.flush()\n",
      "    tweet['polarity'] = req['data'][0]['polarity']\n",
      "    \n",
      "with open(tweets_pickle, 'w') as f:\n",
      "    pickle.dump(tweets_db, f)"
     ],
     "language": "python",
     "metadata": {},
     "outputs": [
      {
       "output_type": "stream",
       "stream": "stdout",
       "text": [
        "N\u00ba of tweets: 400\n",
        "0.25\t"
       ]
      },
      {
       "output_type": "stream",
       "stream": "stdout",
       "text": [
        "0.5\t"
       ]
      },
      {
       "output_type": "stream",
       "stream": "stdout",
       "text": [
        "0.75\t"
       ]
      },
      {
       "output_type": "stream",
       "stream": "stdout",
       "text": [
        "1.0\t"
       ]
      },
      {
       "output_type": "stream",
       "stream": "stdout",
       "text": [
        "1.25\t"
       ]
      },
      {
       "output_type": "stream",
       "stream": "stdout",
       "text": [
        "1.5\t"
       ]
      },
      {
       "output_type": "stream",
       "stream": "stdout",
       "text": [
        "1.75\t"
       ]
      },
      {
       "output_type": "stream",
       "stream": "stdout",
       "text": [
        "2.0\t"
       ]
      },
      {
       "output_type": "stream",
       "stream": "stdout",
       "text": [
        "2.25\t"
       ]
      },
      {
       "output_type": "stream",
       "stream": "stdout",
       "text": [
        "2.5\t"
       ]
      },
      {
       "output_type": "stream",
       "stream": "stdout",
       "text": [
        "2.75\t"
       ]
      },
      {
       "output_type": "stream",
       "stream": "stdout",
       "text": [
        "3.0\t"
       ]
      },
      {
       "output_type": "stream",
       "stream": "stdout",
       "text": [
        "3.25\t"
       ]
      },
      {
       "output_type": "stream",
       "stream": "stdout",
       "text": [
        "3.5\t"
       ]
      },
      {
       "output_type": "stream",
       "stream": "stdout",
       "text": [
        "3.75\t"
       ]
      },
      {
       "output_type": "stream",
       "stream": "stdout",
       "text": [
        "4.0\t"
       ]
      },
      {
       "output_type": "stream",
       "stream": "stdout",
       "text": [
        "4.25\t"
       ]
      },
      {
       "output_type": "stream",
       "stream": "stdout",
       "text": [
        "4.5\t"
       ]
      },
      {
       "output_type": "stream",
       "stream": "stdout",
       "text": [
        "4.75\t"
       ]
      },
      {
       "output_type": "stream",
       "stream": "stdout",
       "text": [
        "5.0\t"
       ]
      },
      {
       "output_type": "stream",
       "stream": "stdout",
       "text": [
        "5.25\t"
       ]
      },
      {
       "output_type": "stream",
       "stream": "stdout",
       "text": [
        "5.5\t"
       ]
      },
      {
       "output_type": "stream",
       "stream": "stdout",
       "text": [
        "5.75\t"
       ]
      },
      {
       "output_type": "stream",
       "stream": "stdout",
       "text": [
        "6.0\t"
       ]
      },
      {
       "output_type": "stream",
       "stream": "stdout",
       "text": [
        "6.25\t"
       ]
      },
      {
       "output_type": "stream",
       "stream": "stdout",
       "text": [
        "6.5\t"
       ]
      },
      {
       "output_type": "stream",
       "stream": "stdout",
       "text": [
        "6.75\t"
       ]
      },
      {
       "output_type": "stream",
       "stream": "stdout",
       "text": [
        "7.0\t"
       ]
      },
      {
       "output_type": "stream",
       "stream": "stdout",
       "text": [
        "7.25\t"
       ]
      },
      {
       "output_type": "stream",
       "stream": "stdout",
       "text": [
        "7.5\t"
       ]
      },
      {
       "output_type": "stream",
       "stream": "stdout",
       "text": [
        "7.75\t"
       ]
      },
      {
       "output_type": "stream",
       "stream": "stdout",
       "text": [
        "8.0\t"
       ]
      },
      {
       "output_type": "stream",
       "stream": "stdout",
       "text": [
        "8.25\t"
       ]
      },
      {
       "output_type": "stream",
       "stream": "stdout",
       "text": [
        "8.5\t"
       ]
      },
      {
       "output_type": "stream",
       "stream": "stdout",
       "text": [
        "8.75\t"
       ]
      },
      {
       "output_type": "stream",
       "stream": "stdout",
       "text": [
        "9.0\t"
       ]
      },
      {
       "output_type": "stream",
       "stream": "stdout",
       "text": [
        "9.25\t"
       ]
      },
      {
       "output_type": "stream",
       "stream": "stdout",
       "text": [
        "9.5\t"
       ]
      },
      {
       "output_type": "stream",
       "stream": "stdout",
       "text": [
        "9.75\t"
       ]
      },
      {
       "output_type": "stream",
       "stream": "stdout",
       "text": [
        "10.0\t"
       ]
      },
      {
       "output_type": "stream",
       "stream": "stdout",
       "text": [
        "10.25\t"
       ]
      },
      {
       "output_type": "stream",
       "stream": "stdout",
       "text": [
        "10.5\t"
       ]
      },
      {
       "output_type": "stream",
       "stream": "stdout",
       "text": [
        "10.75\t"
       ]
      },
      {
       "output_type": "stream",
       "stream": "stdout",
       "text": [
        "11.0\t"
       ]
      },
      {
       "output_type": "stream",
       "stream": "stdout",
       "text": [
        "11.25\t"
       ]
      },
      {
       "output_type": "stream",
       "stream": "stdout",
       "text": [
        "11.5\t"
       ]
      },
      {
       "output_type": "stream",
       "stream": "stdout",
       "text": [
        "11.75\t"
       ]
      },
      {
       "output_type": "stream",
       "stream": "stdout",
       "text": [
        "12.0\t"
       ]
      },
      {
       "output_type": "stream",
       "stream": "stdout",
       "text": [
        "12.25\t"
       ]
      },
      {
       "output_type": "stream",
       "stream": "stdout",
       "text": [
        "12.5\t"
       ]
      },
      {
       "output_type": "stream",
       "stream": "stdout",
       "text": [
        "12.75\t"
       ]
      },
      {
       "output_type": "stream",
       "stream": "stdout",
       "text": [
        "13.0\t"
       ]
      },
      {
       "output_type": "stream",
       "stream": "stdout",
       "text": [
        "13.25\t"
       ]
      },
      {
       "output_type": "stream",
       "stream": "stdout",
       "text": [
        "13.5\t"
       ]
      },
      {
       "output_type": "stream",
       "stream": "stdout",
       "text": [
        "13.75\t"
       ]
      },
      {
       "output_type": "stream",
       "stream": "stdout",
       "text": [
        "14.0\t"
       ]
      },
      {
       "output_type": "stream",
       "stream": "stdout",
       "text": [
        "14.25\t"
       ]
      },
      {
       "output_type": "stream",
       "stream": "stdout",
       "text": [
        "14.5\t"
       ]
      },
      {
       "output_type": "stream",
       "stream": "stdout",
       "text": [
        "14.75\t"
       ]
      },
      {
       "output_type": "stream",
       "stream": "stdout",
       "text": [
        "15.0\t"
       ]
      },
      {
       "output_type": "stream",
       "stream": "stdout",
       "text": [
        "15.25\t"
       ]
      },
      {
       "output_type": "stream",
       "stream": "stdout",
       "text": [
        "15.5\t"
       ]
      },
      {
       "output_type": "stream",
       "stream": "stdout",
       "text": [
        "15.75\t"
       ]
      },
      {
       "output_type": "stream",
       "stream": "stdout",
       "text": [
        "16.0\t"
       ]
      },
      {
       "output_type": "stream",
       "stream": "stdout",
       "text": [
        "16.25\t"
       ]
      },
      {
       "output_type": "stream",
       "stream": "stdout",
       "text": [
        "16.5\t"
       ]
      },
      {
       "output_type": "stream",
       "stream": "stdout",
       "text": [
        "16.75\t"
       ]
      },
      {
       "output_type": "stream",
       "stream": "stdout",
       "text": [
        "17.0\t"
       ]
      },
      {
       "output_type": "stream",
       "stream": "stdout",
       "text": [
        "17.25\t"
       ]
      },
      {
       "output_type": "stream",
       "stream": "stdout",
       "text": [
        "17.5\t"
       ]
      },
      {
       "output_type": "stream",
       "stream": "stdout",
       "text": [
        "17.75\t"
       ]
      },
      {
       "output_type": "stream",
       "stream": "stdout",
       "text": [
        "18.0\t"
       ]
      },
      {
       "output_type": "stream",
       "stream": "stdout",
       "text": [
        "18.25\t"
       ]
      },
      {
       "output_type": "stream",
       "stream": "stdout",
       "text": [
        "18.5\t"
       ]
      },
      {
       "output_type": "stream",
       "stream": "stdout",
       "text": [
        "18.75\t"
       ]
      },
      {
       "output_type": "stream",
       "stream": "stdout",
       "text": [
        "19.0\t"
       ]
      },
      {
       "output_type": "stream",
       "stream": "stdout",
       "text": [
        "19.25\t"
       ]
      },
      {
       "output_type": "stream",
       "stream": "stdout",
       "text": [
        "19.5\t"
       ]
      },
      {
       "output_type": "stream",
       "stream": "stdout",
       "text": [
        "19.75\t"
       ]
      },
      {
       "output_type": "stream",
       "stream": "stdout",
       "text": [
        "20.0\t"
       ]
      },
      {
       "output_type": "stream",
       "stream": "stdout",
       "text": [
        "20.25\t"
       ]
      },
      {
       "output_type": "stream",
       "stream": "stdout",
       "text": [
        "20.5\t"
       ]
      },
      {
       "output_type": "stream",
       "stream": "stdout",
       "text": [
        "20.75\t"
       ]
      },
      {
       "output_type": "stream",
       "stream": "stdout",
       "text": [
        "21.0\t"
       ]
      },
      {
       "output_type": "stream",
       "stream": "stdout",
       "text": [
        "21.25\t"
       ]
      },
      {
       "output_type": "stream",
       "stream": "stdout",
       "text": [
        "21.5\t"
       ]
      },
      {
       "output_type": "stream",
       "stream": "stdout",
       "text": [
        "21.75\t"
       ]
      },
      {
       "output_type": "stream",
       "stream": "stdout",
       "text": [
        "22.0\t"
       ]
      },
      {
       "output_type": "stream",
       "stream": "stdout",
       "text": [
        "22.25\t"
       ]
      },
      {
       "output_type": "stream",
       "stream": "stdout",
       "text": [
        "22.5\t"
       ]
      },
      {
       "output_type": "stream",
       "stream": "stdout",
       "text": [
        "22.75\t"
       ]
      },
      {
       "output_type": "stream",
       "stream": "stdout",
       "text": [
        "23.0\t"
       ]
      },
      {
       "output_type": "stream",
       "stream": "stdout",
       "text": [
        "23.25\t"
       ]
      },
      {
       "output_type": "stream",
       "stream": "stdout",
       "text": [
        "23.5\t"
       ]
      },
      {
       "output_type": "stream",
       "stream": "stdout",
       "text": [
        "23.75\t"
       ]
      },
      {
       "output_type": "stream",
       "stream": "stdout",
       "text": [
        "24.0\t"
       ]
      },
      {
       "output_type": "stream",
       "stream": "stdout",
       "text": [
        "24.25\t"
       ]
      },
      {
       "output_type": "stream",
       "stream": "stdout",
       "text": [
        "24.5\t"
       ]
      },
      {
       "output_type": "stream",
       "stream": "stdout",
       "text": [
        "24.75\t"
       ]
      },
      {
       "output_type": "stream",
       "stream": "stdout",
       "text": [
        "25.0\t"
       ]
      },
      {
       "output_type": "stream",
       "stream": "stdout",
       "text": [
        "25.25\t"
       ]
      },
      {
       "output_type": "stream",
       "stream": "stdout",
       "text": [
        "25.5\t"
       ]
      },
      {
       "output_type": "stream",
       "stream": "stdout",
       "text": [
        "25.75\t"
       ]
      },
      {
       "output_type": "stream",
       "stream": "stdout",
       "text": [
        "26.0\t"
       ]
      },
      {
       "output_type": "stream",
       "stream": "stdout",
       "text": [
        "26.25\t"
       ]
      },
      {
       "output_type": "stream",
       "stream": "stdout",
       "text": [
        "26.5\t"
       ]
      },
      {
       "output_type": "stream",
       "stream": "stdout",
       "text": [
        "26.75\t"
       ]
      },
      {
       "output_type": "stream",
       "stream": "stdout",
       "text": [
        "27.0\t"
       ]
      },
      {
       "output_type": "stream",
       "stream": "stdout",
       "text": [
        "27.25\t"
       ]
      },
      {
       "output_type": "stream",
       "stream": "stdout",
       "text": [
        "27.5\t"
       ]
      },
      {
       "output_type": "stream",
       "stream": "stdout",
       "text": [
        "27.75\t"
       ]
      },
      {
       "output_type": "stream",
       "stream": "stdout",
       "text": [
        "28.0\t"
       ]
      },
      {
       "output_type": "stream",
       "stream": "stdout",
       "text": [
        "28.25\t"
       ]
      },
      {
       "output_type": "stream",
       "stream": "stdout",
       "text": [
        "28.5\t"
       ]
      },
      {
       "output_type": "stream",
       "stream": "stdout",
       "text": [
        "28.75\t"
       ]
      },
      {
       "output_type": "stream",
       "stream": "stdout",
       "text": [
        "29.0\t"
       ]
      },
      {
       "output_type": "stream",
       "stream": "stdout",
       "text": [
        "29.25\t"
       ]
      },
      {
       "output_type": "stream",
       "stream": "stdout",
       "text": [
        "29.5\t"
       ]
      },
      {
       "output_type": "stream",
       "stream": "stdout",
       "text": [
        "29.75\t"
       ]
      },
      {
       "output_type": "stream",
       "stream": "stdout",
       "text": [
        "30.0\t"
       ]
      },
      {
       "output_type": "stream",
       "stream": "stdout",
       "text": [
        "30.25\t"
       ]
      },
      {
       "output_type": "stream",
       "stream": "stdout",
       "text": [
        "30.5\t"
       ]
      },
      {
       "output_type": "stream",
       "stream": "stdout",
       "text": [
        "30.75\t"
       ]
      },
      {
       "output_type": "stream",
       "stream": "stdout",
       "text": [
        "31.0\t"
       ]
      },
      {
       "output_type": "stream",
       "stream": "stdout",
       "text": [
        "31.25\t"
       ]
      },
      {
       "output_type": "stream",
       "stream": "stdout",
       "text": [
        "31.5\t"
       ]
      },
      {
       "output_type": "stream",
       "stream": "stdout",
       "text": [
        "31.75\t"
       ]
      },
      {
       "output_type": "stream",
       "stream": "stdout",
       "text": [
        "32.0\t"
       ]
      },
      {
       "output_type": "stream",
       "stream": "stdout",
       "text": [
        "32.25\t"
       ]
      },
      {
       "output_type": "stream",
       "stream": "stdout",
       "text": [
        "32.5\t"
       ]
      },
      {
       "output_type": "stream",
       "stream": "stdout",
       "text": [
        "32.75\t"
       ]
      },
      {
       "output_type": "stream",
       "stream": "stdout",
       "text": [
        "33.0\t"
       ]
      },
      {
       "output_type": "stream",
       "stream": "stdout",
       "text": [
        "33.25\t"
       ]
      },
      {
       "output_type": "stream",
       "stream": "stdout",
       "text": [
        "33.5\t"
       ]
      },
      {
       "output_type": "stream",
       "stream": "stdout",
       "text": [
        "33.75\t"
       ]
      },
      {
       "output_type": "stream",
       "stream": "stdout",
       "text": [
        "34.0\t"
       ]
      },
      {
       "output_type": "stream",
       "stream": "stdout",
       "text": [
        "34.25\t"
       ]
      },
      {
       "output_type": "stream",
       "stream": "stdout",
       "text": [
        "34.5\t"
       ]
      },
      {
       "output_type": "stream",
       "stream": "stdout",
       "text": [
        "34.75\t"
       ]
      },
      {
       "output_type": "stream",
       "stream": "stdout",
       "text": [
        "35.0\t"
       ]
      },
      {
       "output_type": "stream",
       "stream": "stdout",
       "text": [
        "35.25\t"
       ]
      },
      {
       "output_type": "stream",
       "stream": "stdout",
       "text": [
        "35.5\t"
       ]
      },
      {
       "output_type": "stream",
       "stream": "stdout",
       "text": [
        "35.75\t"
       ]
      },
      {
       "output_type": "stream",
       "stream": "stdout",
       "text": [
        "36.0\t"
       ]
      },
      {
       "output_type": "stream",
       "stream": "stdout",
       "text": [
        "36.25\t"
       ]
      },
      {
       "output_type": "stream",
       "stream": "stdout",
       "text": [
        "36.5\t"
       ]
      },
      {
       "output_type": "stream",
       "stream": "stdout",
       "text": [
        "36.75\t"
       ]
      },
      {
       "output_type": "stream",
       "stream": "stdout",
       "text": [
        "37.0\t"
       ]
      },
      {
       "output_type": "stream",
       "stream": "stdout",
       "text": [
        "37.25\t"
       ]
      },
      {
       "output_type": "stream",
       "stream": "stdout",
       "text": [
        "37.5\t"
       ]
      },
      {
       "output_type": "stream",
       "stream": "stdout",
       "text": [
        "37.75\t"
       ]
      },
      {
       "output_type": "stream",
       "stream": "stdout",
       "text": [
        "38.0\t"
       ]
      },
      {
       "output_type": "stream",
       "stream": "stdout",
       "text": [
        "38.25\t"
       ]
      },
      {
       "output_type": "stream",
       "stream": "stdout",
       "text": [
        "38.5\t"
       ]
      },
      {
       "output_type": "stream",
       "stream": "stdout",
       "text": [
        "38.75\t"
       ]
      },
      {
       "output_type": "stream",
       "stream": "stdout",
       "text": [
        "39.0\t"
       ]
      },
      {
       "output_type": "stream",
       "stream": "stdout",
       "text": [
        "39.25\t"
       ]
      },
      {
       "output_type": "stream",
       "stream": "stdout",
       "text": [
        "39.5\t"
       ]
      },
      {
       "output_type": "stream",
       "stream": "stdout",
       "text": [
        "39.75\t"
       ]
      },
      {
       "output_type": "stream",
       "stream": "stdout",
       "text": [
        "40.0\t"
       ]
      },
      {
       "output_type": "stream",
       "stream": "stdout",
       "text": [
        "40.25\t"
       ]
      },
      {
       "output_type": "stream",
       "stream": "stdout",
       "text": [
        "40.5\t"
       ]
      },
      {
       "output_type": "stream",
       "stream": "stdout",
       "text": [
        "40.75\t"
       ]
      },
      {
       "output_type": "stream",
       "stream": "stdout",
       "text": [
        "41.0\t"
       ]
      },
      {
       "output_type": "stream",
       "stream": "stdout",
       "text": [
        "41.25\t"
       ]
      },
      {
       "output_type": "stream",
       "stream": "stdout",
       "text": [
        "41.5\t"
       ]
      },
      {
       "output_type": "stream",
       "stream": "stdout",
       "text": [
        "41.75\t"
       ]
      },
      {
       "output_type": "stream",
       "stream": "stdout",
       "text": [
        "42.0\t"
       ]
      },
      {
       "output_type": "stream",
       "stream": "stdout",
       "text": [
        "42.25\t"
       ]
      },
      {
       "output_type": "stream",
       "stream": "stdout",
       "text": [
        "42.5\t"
       ]
      },
      {
       "output_type": "stream",
       "stream": "stdout",
       "text": [
        "42.75\t"
       ]
      },
      {
       "output_type": "stream",
       "stream": "stdout",
       "text": [
        "43.0\t"
       ]
      },
      {
       "output_type": "stream",
       "stream": "stdout",
       "text": [
        "43.25\t"
       ]
      },
      {
       "output_type": "stream",
       "stream": "stdout",
       "text": [
        "43.5\t"
       ]
      },
      {
       "output_type": "stream",
       "stream": "stdout",
       "text": [
        "43.75\t"
       ]
      },
      {
       "output_type": "stream",
       "stream": "stdout",
       "text": [
        "44.0\t"
       ]
      },
      {
       "output_type": "stream",
       "stream": "stdout",
       "text": [
        "44.25\t"
       ]
      },
      {
       "output_type": "stream",
       "stream": "stdout",
       "text": [
        "44.5\t"
       ]
      },
      {
       "output_type": "stream",
       "stream": "stdout",
       "text": [
        "44.75\t"
       ]
      },
      {
       "output_type": "stream",
       "stream": "stdout",
       "text": [
        "45.0\t"
       ]
      },
      {
       "output_type": "stream",
       "stream": "stdout",
       "text": [
        "45.25\t"
       ]
      },
      {
       "output_type": "stream",
       "stream": "stdout",
       "text": [
        "45.5\t"
       ]
      },
      {
       "output_type": "stream",
       "stream": "stdout",
       "text": [
        "45.75\t"
       ]
      },
      {
       "output_type": "stream",
       "stream": "stdout",
       "text": [
        "46.0\t"
       ]
      },
      {
       "output_type": "stream",
       "stream": "stdout",
       "text": [
        "46.25\t"
       ]
      },
      {
       "output_type": "stream",
       "stream": "stdout",
       "text": [
        "46.5\t"
       ]
      },
      {
       "output_type": "stream",
       "stream": "stdout",
       "text": [
        "46.75\t"
       ]
      },
      {
       "output_type": "stream",
       "stream": "stdout",
       "text": [
        "47.0\t"
       ]
      },
      {
       "output_type": "stream",
       "stream": "stdout",
       "text": [
        "47.25\t"
       ]
      },
      {
       "output_type": "stream",
       "stream": "stdout",
       "text": [
        "47.5\t"
       ]
      },
      {
       "output_type": "stream",
       "stream": "stdout",
       "text": [
        "47.75\t"
       ]
      },
      {
       "output_type": "stream",
       "stream": "stdout",
       "text": [
        "48.0\t"
       ]
      },
      {
       "output_type": "stream",
       "stream": "stdout",
       "text": [
        "48.25\t"
       ]
      },
      {
       "output_type": "stream",
       "stream": "stdout",
       "text": [
        "48.5\t"
       ]
      },
      {
       "output_type": "stream",
       "stream": "stdout",
       "text": [
        "48.75\t"
       ]
      },
      {
       "output_type": "stream",
       "stream": "stdout",
       "text": [
        "49.0\t"
       ]
      },
      {
       "output_type": "stream",
       "stream": "stdout",
       "text": [
        "49.25\t"
       ]
      },
      {
       "output_type": "stream",
       "stream": "stdout",
       "text": [
        "49.5\t"
       ]
      },
      {
       "output_type": "stream",
       "stream": "stdout",
       "text": [
        "49.75\t"
       ]
      },
      {
       "output_type": "stream",
       "stream": "stdout",
       "text": [
        "50.0\t"
       ]
      },
      {
       "output_type": "stream",
       "stream": "stdout",
       "text": [
        "50.25\t"
       ]
      },
      {
       "output_type": "stream",
       "stream": "stdout",
       "text": [
        "50.5\t"
       ]
      },
      {
       "output_type": "stream",
       "stream": "stdout",
       "text": [
        "50.75\t"
       ]
      },
      {
       "output_type": "stream",
       "stream": "stdout",
       "text": [
        "51.0\t"
       ]
      },
      {
       "output_type": "stream",
       "stream": "stdout",
       "text": [
        "51.25\t"
       ]
      },
      {
       "output_type": "stream",
       "stream": "stdout",
       "text": [
        "51.5\t"
       ]
      },
      {
       "output_type": "stream",
       "stream": "stdout",
       "text": [
        "51.75\t"
       ]
      },
      {
       "output_type": "stream",
       "stream": "stdout",
       "text": [
        "52.0\t"
       ]
      },
      {
       "output_type": "stream",
       "stream": "stdout",
       "text": [
        "52.25\t"
       ]
      },
      {
       "output_type": "stream",
       "stream": "stdout",
       "text": [
        "52.5\t"
       ]
      },
      {
       "output_type": "stream",
       "stream": "stdout",
       "text": [
        "52.75\t"
       ]
      },
      {
       "output_type": "stream",
       "stream": "stdout",
       "text": [
        "53.0\t"
       ]
      },
      {
       "output_type": "stream",
       "stream": "stdout",
       "text": [
        "53.25\t"
       ]
      },
      {
       "output_type": "stream",
       "stream": "stdout",
       "text": [
        "53.5\t"
       ]
      },
      {
       "output_type": "stream",
       "stream": "stdout",
       "text": [
        "53.75\t"
       ]
      },
      {
       "output_type": "stream",
       "stream": "stdout",
       "text": [
        "54.0\t"
       ]
      },
      {
       "output_type": "stream",
       "stream": "stdout",
       "text": [
        "54.25\t"
       ]
      },
      {
       "output_type": "stream",
       "stream": "stdout",
       "text": [
        "54.5\t"
       ]
      },
      {
       "output_type": "stream",
       "stream": "stdout",
       "text": [
        "54.75\t"
       ]
      },
      {
       "output_type": "stream",
       "stream": "stdout",
       "text": [
        "55.0\t"
       ]
      },
      {
       "output_type": "stream",
       "stream": "stdout",
       "text": [
        "55.25\t"
       ]
      },
      {
       "output_type": "stream",
       "stream": "stdout",
       "text": [
        "55.5\t"
       ]
      },
      {
       "output_type": "stream",
       "stream": "stdout",
       "text": [
        "55.75\t"
       ]
      },
      {
       "output_type": "stream",
       "stream": "stdout",
       "text": [
        "56.0\t"
       ]
      },
      {
       "output_type": "stream",
       "stream": "stdout",
       "text": [
        "56.25\t"
       ]
      },
      {
       "output_type": "stream",
       "stream": "stdout",
       "text": [
        "56.5\t"
       ]
      },
      {
       "output_type": "stream",
       "stream": "stdout",
       "text": [
        "56.75\t"
       ]
      },
      {
       "output_type": "stream",
       "stream": "stdout",
       "text": [
        "57.0\t"
       ]
      },
      {
       "output_type": "stream",
       "stream": "stdout",
       "text": [
        "57.25\t"
       ]
      },
      {
       "output_type": "stream",
       "stream": "stdout",
       "text": [
        "57.5\t"
       ]
      },
      {
       "output_type": "stream",
       "stream": "stdout",
       "text": [
        "57.75\t"
       ]
      },
      {
       "output_type": "stream",
       "stream": "stdout",
       "text": [
        "58.0\t"
       ]
      },
      {
       "output_type": "stream",
       "stream": "stdout",
       "text": [
        "58.25\t"
       ]
      },
      {
       "output_type": "stream",
       "stream": "stdout",
       "text": [
        "58.5\t"
       ]
      },
      {
       "output_type": "stream",
       "stream": "stdout",
       "text": [
        "58.75\t"
       ]
      },
      {
       "output_type": "stream",
       "stream": "stdout",
       "text": [
        "59.0\t"
       ]
      },
      {
       "output_type": "stream",
       "stream": "stdout",
       "text": [
        "59.25\t"
       ]
      },
      {
       "output_type": "stream",
       "stream": "stdout",
       "text": [
        "59.5\t"
       ]
      },
      {
       "output_type": "stream",
       "stream": "stdout",
       "text": [
        "59.75\t"
       ]
      },
      {
       "output_type": "stream",
       "stream": "stdout",
       "text": [
        "60.0\t"
       ]
      },
      {
       "output_type": "stream",
       "stream": "stdout",
       "text": [
        "60.25\t"
       ]
      },
      {
       "output_type": "stream",
       "stream": "stdout",
       "text": [
        "60.5\t"
       ]
      },
      {
       "output_type": "stream",
       "stream": "stdout",
       "text": [
        "60.75\t"
       ]
      },
      {
       "output_type": "stream",
       "stream": "stdout",
       "text": [
        "61.0\t"
       ]
      },
      {
       "output_type": "stream",
       "stream": "stdout",
       "text": [
        "61.25\t"
       ]
      },
      {
       "output_type": "stream",
       "stream": "stdout",
       "text": [
        "61.5\t"
       ]
      },
      {
       "output_type": "stream",
       "stream": "stdout",
       "text": [
        "61.75\t"
       ]
      },
      {
       "output_type": "stream",
       "stream": "stdout",
       "text": [
        "62.0\t"
       ]
      },
      {
       "output_type": "stream",
       "stream": "stdout",
       "text": [
        "62.25\t"
       ]
      },
      {
       "output_type": "stream",
       "stream": "stdout",
       "text": [
        "62.5\t"
       ]
      },
      {
       "output_type": "stream",
       "stream": "stdout",
       "text": [
        "62.75\t"
       ]
      },
      {
       "output_type": "stream",
       "stream": "stdout",
       "text": [
        "63.0\t"
       ]
      },
      {
       "output_type": "stream",
       "stream": "stdout",
       "text": [
        "63.25\t"
       ]
      },
      {
       "output_type": "stream",
       "stream": "stdout",
       "text": [
        "63.5\t"
       ]
      },
      {
       "output_type": "stream",
       "stream": "stdout",
       "text": [
        "63.75\t"
       ]
      },
      {
       "output_type": "stream",
       "stream": "stdout",
       "text": [
        "64.0\t"
       ]
      },
      {
       "output_type": "stream",
       "stream": "stdout",
       "text": [
        "64.25\t"
       ]
      },
      {
       "output_type": "stream",
       "stream": "stdout",
       "text": [
        "64.5\t"
       ]
      },
      {
       "output_type": "stream",
       "stream": "stdout",
       "text": [
        "64.75\t"
       ]
      },
      {
       "output_type": "stream",
       "stream": "stdout",
       "text": [
        "65.0\t"
       ]
      },
      {
       "output_type": "stream",
       "stream": "stdout",
       "text": [
        "65.25\t"
       ]
      },
      {
       "output_type": "stream",
       "stream": "stdout",
       "text": [
        "65.5\t"
       ]
      },
      {
       "output_type": "stream",
       "stream": "stdout",
       "text": [
        "65.75\t"
       ]
      },
      {
       "output_type": "stream",
       "stream": "stdout",
       "text": [
        "66.0\t"
       ]
      },
      {
       "output_type": "stream",
       "stream": "stdout",
       "text": [
        "66.25\t"
       ]
      },
      {
       "output_type": "stream",
       "stream": "stdout",
       "text": [
        "66.5\t"
       ]
      },
      {
       "output_type": "stream",
       "stream": "stdout",
       "text": [
        "66.75\t"
       ]
      },
      {
       "output_type": "stream",
       "stream": "stdout",
       "text": [
        "67.0\t"
       ]
      },
      {
       "output_type": "stream",
       "stream": "stdout",
       "text": [
        "67.25\t"
       ]
      },
      {
       "output_type": "stream",
       "stream": "stdout",
       "text": [
        "67.5\t"
       ]
      },
      {
       "output_type": "stream",
       "stream": "stdout",
       "text": [
        "67.75\t"
       ]
      },
      {
       "output_type": "stream",
       "stream": "stdout",
       "text": [
        "68.0\t"
       ]
      },
      {
       "output_type": "stream",
       "stream": "stdout",
       "text": [
        "68.25\t"
       ]
      },
      {
       "output_type": "stream",
       "stream": "stdout",
       "text": [
        "68.5\t"
       ]
      },
      {
       "output_type": "stream",
       "stream": "stdout",
       "text": [
        "68.75\t"
       ]
      },
      {
       "output_type": "stream",
       "stream": "stdout",
       "text": [
        "69.0\t"
       ]
      },
      {
       "output_type": "stream",
       "stream": "stdout",
       "text": [
        "69.25\t"
       ]
      },
      {
       "output_type": "stream",
       "stream": "stdout",
       "text": [
        "69.5\t"
       ]
      },
      {
       "output_type": "stream",
       "stream": "stdout",
       "text": [
        "69.75\t"
       ]
      },
      {
       "output_type": "stream",
       "stream": "stdout",
       "text": [
        "70.0\t"
       ]
      },
      {
       "output_type": "stream",
       "stream": "stdout",
       "text": [
        "70.25\t"
       ]
      },
      {
       "output_type": "stream",
       "stream": "stdout",
       "text": [
        "70.5\t"
       ]
      },
      {
       "output_type": "stream",
       "stream": "stdout",
       "text": [
        "70.75\t"
       ]
      },
      {
       "output_type": "stream",
       "stream": "stdout",
       "text": [
        "71.0\t"
       ]
      },
      {
       "output_type": "stream",
       "stream": "stdout",
       "text": [
        "71.25\t"
       ]
      },
      {
       "output_type": "stream",
       "stream": "stdout",
       "text": [
        "71.5\t"
       ]
      },
      {
       "output_type": "stream",
       "stream": "stdout",
       "text": [
        "71.75\t"
       ]
      },
      {
       "output_type": "stream",
       "stream": "stdout",
       "text": [
        "72.0\t"
       ]
      },
      {
       "output_type": "stream",
       "stream": "stdout",
       "text": [
        "72.25\t"
       ]
      },
      {
       "output_type": "stream",
       "stream": "stdout",
       "text": [
        "72.5\t"
       ]
      },
      {
       "output_type": "stream",
       "stream": "stdout",
       "text": [
        "72.75\t"
       ]
      },
      {
       "output_type": "stream",
       "stream": "stdout",
       "text": [
        "73.0\t"
       ]
      },
      {
       "output_type": "stream",
       "stream": "stdout",
       "text": [
        "73.25\t"
       ]
      },
      {
       "output_type": "stream",
       "stream": "stdout",
       "text": [
        "73.5\t"
       ]
      },
      {
       "output_type": "stream",
       "stream": "stdout",
       "text": [
        "73.75\t"
       ]
      },
      {
       "output_type": "stream",
       "stream": "stdout",
       "text": [
        "74.0\t"
       ]
      },
      {
       "output_type": "stream",
       "stream": "stdout",
       "text": [
        "74.25\t"
       ]
      },
      {
       "output_type": "stream",
       "stream": "stdout",
       "text": [
        "74.5\t"
       ]
      },
      {
       "output_type": "stream",
       "stream": "stdout",
       "text": [
        "74.75\t"
       ]
      },
      {
       "output_type": "stream",
       "stream": "stdout",
       "text": [
        "75.0\t"
       ]
      },
      {
       "output_type": "stream",
       "stream": "stdout",
       "text": [
        "75.25\t"
       ]
      },
      {
       "output_type": "stream",
       "stream": "stdout",
       "text": [
        "75.5\t"
       ]
      },
      {
       "output_type": "stream",
       "stream": "stdout",
       "text": [
        "75.75\t"
       ]
      },
      {
       "output_type": "stream",
       "stream": "stdout",
       "text": [
        "76.0\t"
       ]
      },
      {
       "output_type": "stream",
       "stream": "stdout",
       "text": [
        "76.25\t"
       ]
      },
      {
       "output_type": "stream",
       "stream": "stdout",
       "text": [
        "76.5\t"
       ]
      },
      {
       "output_type": "stream",
       "stream": "stdout",
       "text": [
        "76.75\t"
       ]
      },
      {
       "output_type": "stream",
       "stream": "stdout",
       "text": [
        "77.0\t"
       ]
      },
      {
       "output_type": "stream",
       "stream": "stdout",
       "text": [
        "77.25\t"
       ]
      },
      {
       "output_type": "stream",
       "stream": "stdout",
       "text": [
        "77.5\t"
       ]
      },
      {
       "output_type": "stream",
       "stream": "stdout",
       "text": [
        "77.75\t"
       ]
      },
      {
       "output_type": "stream",
       "stream": "stdout",
       "text": [
        "78.0\t"
       ]
      },
      {
       "output_type": "stream",
       "stream": "stdout",
       "text": [
        "78.25\t"
       ]
      },
      {
       "output_type": "stream",
       "stream": "stdout",
       "text": [
        "78.5\t"
       ]
      },
      {
       "output_type": "stream",
       "stream": "stdout",
       "text": [
        "78.75\t"
       ]
      },
      {
       "output_type": "stream",
       "stream": "stdout",
       "text": [
        "79.0\t"
       ]
      },
      {
       "output_type": "stream",
       "stream": "stdout",
       "text": [
        "79.25\t"
       ]
      },
      {
       "output_type": "stream",
       "stream": "stdout",
       "text": [
        "79.5\t"
       ]
      },
      {
       "output_type": "stream",
       "stream": "stdout",
       "text": [
        "79.75\t"
       ]
      },
      {
       "output_type": "stream",
       "stream": "stdout",
       "text": [
        "80.0\t"
       ]
      },
      {
       "output_type": "stream",
       "stream": "stdout",
       "text": [
        "80.25\t"
       ]
      },
      {
       "output_type": "stream",
       "stream": "stdout",
       "text": [
        "80.5\t"
       ]
      },
      {
       "output_type": "stream",
       "stream": "stdout",
       "text": [
        "80.75\t"
       ]
      },
      {
       "output_type": "stream",
       "stream": "stdout",
       "text": [
        "81.0\t"
       ]
      },
      {
       "output_type": "stream",
       "stream": "stdout",
       "text": [
        "81.25\t"
       ]
      },
      {
       "output_type": "stream",
       "stream": "stdout",
       "text": [
        "81.5\t"
       ]
      },
      {
       "output_type": "stream",
       "stream": "stdout",
       "text": [
        "81.75\t"
       ]
      },
      {
       "output_type": "stream",
       "stream": "stdout",
       "text": [
        "82.0\t"
       ]
      },
      {
       "output_type": "stream",
       "stream": "stdout",
       "text": [
        "82.25\t"
       ]
      },
      {
       "output_type": "stream",
       "stream": "stdout",
       "text": [
        "82.5\t"
       ]
      },
      {
       "output_type": "stream",
       "stream": "stdout",
       "text": [
        "82.75\t"
       ]
      },
      {
       "output_type": "stream",
       "stream": "stdout",
       "text": [
        "83.0\t"
       ]
      },
      {
       "output_type": "stream",
       "stream": "stdout",
       "text": [
        "83.25\t"
       ]
      },
      {
       "output_type": "stream",
       "stream": "stdout",
       "text": [
        "83.5\t"
       ]
      },
      {
       "output_type": "stream",
       "stream": "stdout",
       "text": [
        "83.75\t"
       ]
      },
      {
       "output_type": "stream",
       "stream": "stdout",
       "text": [
        "84.0\t"
       ]
      },
      {
       "output_type": "stream",
       "stream": "stdout",
       "text": [
        "84.25\t"
       ]
      },
      {
       "output_type": "stream",
       "stream": "stdout",
       "text": [
        "84.5\t"
       ]
      },
      {
       "output_type": "stream",
       "stream": "stdout",
       "text": [
        "84.75\t"
       ]
      },
      {
       "output_type": "stream",
       "stream": "stdout",
       "text": [
        "85.0\t"
       ]
      },
      {
       "output_type": "stream",
       "stream": "stdout",
       "text": [
        "85.25\t"
       ]
      },
      {
       "output_type": "stream",
       "stream": "stdout",
       "text": [
        "85.5\t"
       ]
      },
      {
       "output_type": "stream",
       "stream": "stdout",
       "text": [
        "85.75\t"
       ]
      },
      {
       "output_type": "stream",
       "stream": "stdout",
       "text": [
        "86.0\t"
       ]
      },
      {
       "output_type": "stream",
       "stream": "stdout",
       "text": [
        "86.25\t"
       ]
      },
      {
       "output_type": "stream",
       "stream": "stdout",
       "text": [
        "86.5\t"
       ]
      },
      {
       "output_type": "stream",
       "stream": "stdout",
       "text": [
        "86.75\t"
       ]
      },
      {
       "output_type": "stream",
       "stream": "stdout",
       "text": [
        "87.0\t"
       ]
      },
      {
       "output_type": "stream",
       "stream": "stdout",
       "text": [
        "87.25\t"
       ]
      },
      {
       "output_type": "stream",
       "stream": "stdout",
       "text": [
        "87.5\t"
       ]
      },
      {
       "output_type": "stream",
       "stream": "stdout",
       "text": [
        "87.75\t"
       ]
      },
      {
       "output_type": "stream",
       "stream": "stdout",
       "text": [
        "88.0\t"
       ]
      },
      {
       "output_type": "stream",
       "stream": "stdout",
       "text": [
        "88.25\t"
       ]
      },
      {
       "output_type": "stream",
       "stream": "stdout",
       "text": [
        "88.5\t"
       ]
      },
      {
       "output_type": "stream",
       "stream": "stdout",
       "text": [
        "88.75\t"
       ]
      },
      {
       "output_type": "stream",
       "stream": "stdout",
       "text": [
        "89.0\t"
       ]
      },
      {
       "output_type": "stream",
       "stream": "stdout",
       "text": [
        "89.25\t"
       ]
      },
      {
       "output_type": "stream",
       "stream": "stdout",
       "text": [
        "89.5\t"
       ]
      },
      {
       "output_type": "stream",
       "stream": "stdout",
       "text": [
        "89.75\t"
       ]
      },
      {
       "output_type": "stream",
       "stream": "stdout",
       "text": [
        "90.0\t"
       ]
      },
      {
       "output_type": "stream",
       "stream": "stdout",
       "text": [
        "90.25\t"
       ]
      },
      {
       "output_type": "stream",
       "stream": "stdout",
       "text": [
        "90.5\t"
       ]
      },
      {
       "output_type": "stream",
       "stream": "stdout",
       "text": [
        "90.75\t"
       ]
      },
      {
       "output_type": "stream",
       "stream": "stdout",
       "text": [
        "91.0\t"
       ]
      },
      {
       "output_type": "stream",
       "stream": "stdout",
       "text": [
        "91.25\t"
       ]
      },
      {
       "output_type": "stream",
       "stream": "stdout",
       "text": [
        "91.5\t"
       ]
      },
      {
       "output_type": "stream",
       "stream": "stdout",
       "text": [
        "91.75\t"
       ]
      },
      {
       "output_type": "stream",
       "stream": "stdout",
       "text": [
        "92.0\t"
       ]
      },
      {
       "output_type": "stream",
       "stream": "stdout",
       "text": [
        "92.25\t"
       ]
      },
      {
       "output_type": "stream",
       "stream": "stdout",
       "text": [
        "92.5\t"
       ]
      },
      {
       "output_type": "stream",
       "stream": "stdout",
       "text": [
        "92.75\t"
       ]
      },
      {
       "output_type": "stream",
       "stream": "stdout",
       "text": [
        "93.0\t"
       ]
      },
      {
       "output_type": "stream",
       "stream": "stdout",
       "text": [
        "93.25\t"
       ]
      },
      {
       "output_type": "stream",
       "stream": "stdout",
       "text": [
        "93.5\t"
       ]
      },
      {
       "output_type": "stream",
       "stream": "stdout",
       "text": [
        "93.75\t"
       ]
      },
      {
       "output_type": "stream",
       "stream": "stdout",
       "text": [
        "94.0\t"
       ]
      },
      {
       "output_type": "stream",
       "stream": "stdout",
       "text": [
        "94.25\t"
       ]
      },
      {
       "output_type": "stream",
       "stream": "stdout",
       "text": [
        "94.5\t"
       ]
      },
      {
       "output_type": "stream",
       "stream": "stdout",
       "text": [
        "94.75\t"
       ]
      },
      {
       "output_type": "stream",
       "stream": "stdout",
       "text": [
        "95.0\t"
       ]
      },
      {
       "output_type": "stream",
       "stream": "stdout",
       "text": [
        "95.25\t"
       ]
      },
      {
       "output_type": "stream",
       "stream": "stdout",
       "text": [
        "95.5\t"
       ]
      },
      {
       "output_type": "stream",
       "stream": "stdout",
       "text": [
        "95.75\t"
       ]
      },
      {
       "output_type": "stream",
       "stream": "stdout",
       "text": [
        "96.0\t"
       ]
      },
      {
       "output_type": "stream",
       "stream": "stdout",
       "text": [
        "96.25\t"
       ]
      },
      {
       "output_type": "stream",
       "stream": "stdout",
       "text": [
        "96.5\t"
       ]
      },
      {
       "output_type": "stream",
       "stream": "stdout",
       "text": [
        "96.75\t"
       ]
      },
      {
       "output_type": "stream",
       "stream": "stdout",
       "text": [
        "97.0\t"
       ]
      },
      {
       "output_type": "stream",
       "stream": "stdout",
       "text": [
        "97.25\t"
       ]
      },
      {
       "output_type": "stream",
       "stream": "stdout",
       "text": [
        "97.5\t"
       ]
      },
      {
       "output_type": "stream",
       "stream": "stdout",
       "text": [
        "97.75\t"
       ]
      },
      {
       "output_type": "stream",
       "stream": "stdout",
       "text": [
        "98.0\t"
       ]
      },
      {
       "output_type": "stream",
       "stream": "stdout",
       "text": [
        "98.25\t"
       ]
      },
      {
       "output_type": "stream",
       "stream": "stdout",
       "text": [
        "98.5\t"
       ]
      },
      {
       "output_type": "stream",
       "stream": "stdout",
       "text": [
        "98.75\t"
       ]
      },
      {
       "output_type": "stream",
       "stream": "stdout",
       "text": [
        "99.0\t"
       ]
      },
      {
       "output_type": "stream",
       "stream": "stdout",
       "text": [
        "99.25\t"
       ]
      },
      {
       "output_type": "stream",
       "stream": "stdout",
       "text": [
        "99.5\t"
       ]
      },
      {
       "output_type": "stream",
       "stream": "stdout",
       "text": [
        "99.75\t"
       ]
      },
      {
       "output_type": "stream",
       "stream": "stdout",
       "text": [
        "100.0\t"
       ]
      }
     ],
     "prompt_number": 78
    },
    {
     "cell_type": "code",
     "collapsed": false,
     "input": [
      "tweets_json = json.dumps(tweets_db)\n",
      "with codecs.open(tweets_jsfile, 'w', 'utf-8') as f1:\n",
      "    f1.write('var tweets = '+tweets_json)"
     ],
     "language": "python",
     "metadata": {},
     "outputs": [],
     "prompt_number": 79
    },
    {
     "cell_type": "code",
     "collapsed": false,
     "input": [
      "import uuid\n",
      "import time\n",
      "from IPython.display import HTML, Javascript, display\n",
      "\n",
      "divid = str(uuid.uuid4())\n",
      "\n",
      "pb = HTML(\n",
      "\"\"\"\n",
      "<div style=\"border: 1px solid black; width:500px\">\n",
      "  <div id=\"%s\" style=\"background-color:blue; width:0%%\">&nbsp;</div>\n",
      "</div> \n",
      "\"\"\" % divid)\n",
      "display(pb)\n",
      "for i in range(1,101):\n",
      "    time.sleep(0.1)\n",
      "    \n",
      "    display(Javascript(\"$('div#%s').width('%i%%')\" % (divid, i)))"
     ],
     "language": "python",
     "metadata": {},
     "outputs": [
      {
       "html": [
        "\n",
        "<div style=\"border: 1px solid black; width:500px\">\n",
        "  <div id=\"00f773b9-6e48-4411-9710-e6ea49e434e7\" style=\"background-color:blue; width:0%\">&nbsp;</div>\n",
        "</div> \n"
       ],
       "metadata": {},
       "output_type": "display_data",
       "text": [
        "<IPython.core.display.HTML at 0x7f1344c92c10>"
       ]
      },
      {
       "javascript": [
        "$('div#00f773b9-6e48-4411-9710-e6ea49e434e7').width('1%')"
       ],
       "metadata": {},
       "output_type": "display_data",
       "text": [
        "<IPython.core.display.Javascript at 0x7f1344c92b90>"
       ]
      },
      {
       "javascript": [
        "$('div#00f773b9-6e48-4411-9710-e6ea49e434e7').width('2%')"
       ],
       "metadata": {},
       "output_type": "display_data",
       "text": [
        "<IPython.core.display.Javascript at 0x7f1344c8ab50>"
       ]
      },
      {
       "javascript": [
        "$('div#00f773b9-6e48-4411-9710-e6ea49e434e7').width('3%')"
       ],
       "metadata": {},
       "output_type": "display_data",
       "text": [
        "<IPython.core.display.Javascript at 0x7f1344c8ab90>"
       ]
      },
      {
       "javascript": [
        "$('div#00f773b9-6e48-4411-9710-e6ea49e434e7').width('4%')"
       ],
       "metadata": {},
       "output_type": "display_data",
       "text": [
        "<IPython.core.display.Javascript at 0x7f132ffce090>"
       ]
      },
      {
       "javascript": [
        "$('div#00f773b9-6e48-4411-9710-e6ea49e434e7').width('5%')"
       ],
       "metadata": {},
       "output_type": "display_data",
       "text": [
        "<IPython.core.display.Javascript at 0x7f132ffce0d0>"
       ]
      },
      {
       "javascript": [
        "$('div#00f773b9-6e48-4411-9710-e6ea49e434e7').width('6%')"
       ],
       "metadata": {},
       "output_type": "display_data",
       "text": [
        "<IPython.core.display.Javascript at 0x7f132ffce210>"
       ]
      },
      {
       "javascript": [
        "$('div#00f773b9-6e48-4411-9710-e6ea49e434e7').width('7%')"
       ],
       "metadata": {},
       "output_type": "display_data",
       "text": [
        "<IPython.core.display.Javascript at 0x7f132ffce050>"
       ]
      },
      {
       "javascript": [
        "$('div#00f773b9-6e48-4411-9710-e6ea49e434e7').width('8%')"
       ],
       "metadata": {},
       "output_type": "display_data",
       "text": [
        "<IPython.core.display.Javascript at 0x7f132ffce1d0>"
       ]
      },
      {
       "javascript": [
        "$('div#00f773b9-6e48-4411-9710-e6ea49e434e7').width('9%')"
       ],
       "metadata": {},
       "output_type": "display_data",
       "text": [
        "<IPython.core.display.Javascript at 0x7f132ffce250>"
       ]
      },
      {
       "javascript": [
        "$('div#00f773b9-6e48-4411-9710-e6ea49e434e7').width('10%')"
       ],
       "metadata": {},
       "output_type": "display_data",
       "text": [
        "<IPython.core.display.Javascript at 0x7f132ffce290>"
       ]
      },
      {
       "javascript": [
        "$('div#00f773b9-6e48-4411-9710-e6ea49e434e7').width('11%')"
       ],
       "metadata": {},
       "output_type": "display_data",
       "text": [
        "<IPython.core.display.Javascript at 0x7f132ffce2d0>"
       ]
      },
      {
       "javascript": [
        "$('div#00f773b9-6e48-4411-9710-e6ea49e434e7').width('12%')"
       ],
       "metadata": {},
       "output_type": "display_data",
       "text": [
        "<IPython.core.display.Javascript at 0x7f132ffce310>"
       ]
      },
      {
       "javascript": [
        "$('div#00f773b9-6e48-4411-9710-e6ea49e434e7').width('13%')"
       ],
       "metadata": {},
       "output_type": "display_data",
       "text": [
        "<IPython.core.display.Javascript at 0x7f132ffce350>"
       ]
      },
      {
       "javascript": [
        "$('div#00f773b9-6e48-4411-9710-e6ea49e434e7').width('14%')"
       ],
       "metadata": {},
       "output_type": "display_data",
       "text": [
        "<IPython.core.display.Javascript at 0x7f132ffce390>"
       ]
      },
      {
       "javascript": [
        "$('div#00f773b9-6e48-4411-9710-e6ea49e434e7').width('15%')"
       ],
       "metadata": {},
       "output_type": "display_data",
       "text": [
        "<IPython.core.display.Javascript at 0x7f132ffce3d0>"
       ]
      },
      {
       "javascript": [
        "$('div#00f773b9-6e48-4411-9710-e6ea49e434e7').width('16%')"
       ],
       "metadata": {},
       "output_type": "display_data",
       "text": [
        "<IPython.core.display.Javascript at 0x7f132ffce410>"
       ]
      },
      {
       "javascript": [
        "$('div#00f773b9-6e48-4411-9710-e6ea49e434e7').width('17%')"
       ],
       "metadata": {},
       "output_type": "display_data",
       "text": [
        "<IPython.core.display.Javascript at 0x7f132ffce450>"
       ]
      },
      {
       "javascript": [
        "$('div#00f773b9-6e48-4411-9710-e6ea49e434e7').width('18%')"
       ],
       "metadata": {},
       "output_type": "display_data",
       "text": [
        "<IPython.core.display.Javascript at 0x7f132ffce490>"
       ]
      },
      {
       "javascript": [
        "$('div#00f773b9-6e48-4411-9710-e6ea49e434e7').width('19%')"
       ],
       "metadata": {},
       "output_type": "display_data",
       "text": [
        "<IPython.core.display.Javascript at 0x7f132ffce4d0>"
       ]
      },
      {
       "javascript": [
        "$('div#00f773b9-6e48-4411-9710-e6ea49e434e7').width('20%')"
       ],
       "metadata": {},
       "output_type": "display_data",
       "text": [
        "<IPython.core.display.Javascript at 0x7f132ffce510>"
       ]
      },
      {
       "javascript": [
        "$('div#00f773b9-6e48-4411-9710-e6ea49e434e7').width('21%')"
       ],
       "metadata": {},
       "output_type": "display_data",
       "text": [
        "<IPython.core.display.Javascript at 0x7f132ffce550>"
       ]
      },
      {
       "javascript": [
        "$('div#00f773b9-6e48-4411-9710-e6ea49e434e7').width('22%')"
       ],
       "metadata": {},
       "output_type": "display_data",
       "text": [
        "<IPython.core.display.Javascript at 0x7f132ffce590>"
       ]
      },
      {
       "javascript": [
        "$('div#00f773b9-6e48-4411-9710-e6ea49e434e7').width('23%')"
       ],
       "metadata": {},
       "output_type": "display_data",
       "text": [
        "<IPython.core.display.Javascript at 0x7f132ffce5d0>"
       ]
      },
      {
       "javascript": [
        "$('div#00f773b9-6e48-4411-9710-e6ea49e434e7').width('24%')"
       ],
       "metadata": {},
       "output_type": "display_data",
       "text": [
        "<IPython.core.display.Javascript at 0x7f132ffce610>"
       ]
      },
      {
       "javascript": [
        "$('div#00f773b9-6e48-4411-9710-e6ea49e434e7').width('25%')"
       ],
       "metadata": {},
       "output_type": "display_data",
       "text": [
        "<IPython.core.display.Javascript at 0x7f132ffce650>"
       ]
      },
      {
       "javascript": [
        "$('div#00f773b9-6e48-4411-9710-e6ea49e434e7').width('26%')"
       ],
       "metadata": {},
       "output_type": "display_data",
       "text": [
        "<IPython.core.display.Javascript at 0x7f132ffce690>"
       ]
      },
      {
       "javascript": [
        "$('div#00f773b9-6e48-4411-9710-e6ea49e434e7').width('27%')"
       ],
       "metadata": {},
       "output_type": "display_data",
       "text": [
        "<IPython.core.display.Javascript at 0x7f132ffce6d0>"
       ]
      },
      {
       "javascript": [
        "$('div#00f773b9-6e48-4411-9710-e6ea49e434e7').width('28%')"
       ],
       "metadata": {},
       "output_type": "display_data",
       "text": [
        "<IPython.core.display.Javascript at 0x7f132ffce710>"
       ]
      },
      {
       "javascript": [
        "$('div#00f773b9-6e48-4411-9710-e6ea49e434e7').width('29%')"
       ],
       "metadata": {},
       "output_type": "display_data",
       "text": [
        "<IPython.core.display.Javascript at 0x7f132ffce750>"
       ]
      },
      {
       "javascript": [
        "$('div#00f773b9-6e48-4411-9710-e6ea49e434e7').width('30%')"
       ],
       "metadata": {},
       "output_type": "display_data",
       "text": [
        "<IPython.core.display.Javascript at 0x7f132ffce790>"
       ]
      },
      {
       "javascript": [
        "$('div#00f773b9-6e48-4411-9710-e6ea49e434e7').width('31%')"
       ],
       "metadata": {},
       "output_type": "display_data",
       "text": [
        "<IPython.core.display.Javascript at 0x7f132ffce7d0>"
       ]
      },
      {
       "javascript": [
        "$('div#00f773b9-6e48-4411-9710-e6ea49e434e7').width('32%')"
       ],
       "metadata": {},
       "output_type": "display_data",
       "text": [
        "<IPython.core.display.Javascript at 0x7f132ffce810>"
       ]
      },
      {
       "javascript": [
        "$('div#00f773b9-6e48-4411-9710-e6ea49e434e7').width('33%')"
       ],
       "metadata": {},
       "output_type": "display_data",
       "text": [
        "<IPython.core.display.Javascript at 0x7f132ffce850>"
       ]
      },
      {
       "javascript": [
        "$('div#00f773b9-6e48-4411-9710-e6ea49e434e7').width('34%')"
       ],
       "metadata": {},
       "output_type": "display_data",
       "text": [
        "<IPython.core.display.Javascript at 0x7f132ffce890>"
       ]
      },
      {
       "javascript": [
        "$('div#00f773b9-6e48-4411-9710-e6ea49e434e7').width('35%')"
       ],
       "metadata": {},
       "output_type": "display_data",
       "text": [
        "<IPython.core.display.Javascript at 0x7f132ffce8d0>"
       ]
      },
      {
       "javascript": [
        "$('div#00f773b9-6e48-4411-9710-e6ea49e434e7').width('36%')"
       ],
       "metadata": {},
       "output_type": "display_data",
       "text": [
        "<IPython.core.display.Javascript at 0x7f132ffce910>"
       ]
      },
      {
       "javascript": [
        "$('div#00f773b9-6e48-4411-9710-e6ea49e434e7').width('37%')"
       ],
       "metadata": {},
       "output_type": "display_data",
       "text": [
        "<IPython.core.display.Javascript at 0x7f132ffce950>"
       ]
      },
      {
       "javascript": [
        "$('div#00f773b9-6e48-4411-9710-e6ea49e434e7').width('38%')"
       ],
       "metadata": {},
       "output_type": "display_data",
       "text": [
        "<IPython.core.display.Javascript at 0x7f132ffce990>"
       ]
      },
      {
       "javascript": [
        "$('div#00f773b9-6e48-4411-9710-e6ea49e434e7').width('39%')"
       ],
       "metadata": {},
       "output_type": "display_data",
       "text": [
        "<IPython.core.display.Javascript at 0x7f1344c8ab90>"
       ]
      },
      {
       "javascript": [
        "$('div#00f773b9-6e48-4411-9710-e6ea49e434e7').width('40%')"
       ],
       "metadata": {},
       "output_type": "display_data",
       "text": [
        "<IPython.core.display.Javascript at 0x7f1344c8ab50>"
       ]
      },
      {
       "javascript": [
        "$('div#00f773b9-6e48-4411-9710-e6ea49e434e7').width('41%')"
       ],
       "metadata": {},
       "output_type": "display_data",
       "text": [
        "<IPython.core.display.Javascript at 0x7f1344c92b90>"
       ]
      },
      {
       "javascript": [
        "$('div#00f773b9-6e48-4411-9710-e6ea49e434e7').width('42%')"
       ],
       "metadata": {},
       "output_type": "display_data",
       "text": [
        "<IPython.core.display.Javascript at 0x7f132ffce990>"
       ]
      },
      {
       "javascript": [
        "$('div#00f773b9-6e48-4411-9710-e6ea49e434e7').width('43%')"
       ],
       "metadata": {},
       "output_type": "display_data",
       "text": [
        "<IPython.core.display.Javascript at 0x7f132ffcea10>"
       ]
      },
      {
       "javascript": [
        "$('div#00f773b9-6e48-4411-9710-e6ea49e434e7').width('44%')"
       ],
       "metadata": {},
       "output_type": "display_data",
       "text": [
        "<IPython.core.display.Javascript at 0x7f132ffce150>"
       ]
      },
      {
       "javascript": [
        "$('div#00f773b9-6e48-4411-9710-e6ea49e434e7').width('45%')"
       ],
       "metadata": {},
       "output_type": "display_data",
       "text": [
        "<IPython.core.display.Javascript at 0x7f132ffce110>"
       ]
      },
      {
       "javascript": [
        "$('div#00f773b9-6e48-4411-9710-e6ea49e434e7').width('46%')"
       ],
       "metadata": {},
       "output_type": "display_data",
       "text": [
        "<IPython.core.display.Javascript at 0x7f132ffcea90>"
       ]
      },
      {
       "javascript": [
        "$('div#00f773b9-6e48-4411-9710-e6ea49e434e7').width('47%')"
       ],
       "metadata": {},
       "output_type": "display_data",
       "text": [
        "<IPython.core.display.Javascript at 0x7f132ffcead0>"
       ]
      },
      {
       "javascript": [
        "$('div#00f773b9-6e48-4411-9710-e6ea49e434e7').width('48%')"
       ],
       "metadata": {},
       "output_type": "display_data",
       "text": [
        "<IPython.core.display.Javascript at 0x7f132ffceb10>"
       ]
      },
      {
       "javascript": [
        "$('div#00f773b9-6e48-4411-9710-e6ea49e434e7').width('49%')"
       ],
       "metadata": {},
       "output_type": "display_data",
       "text": [
        "<IPython.core.display.Javascript at 0x7f132ffce950>"
       ]
      },
      {
       "javascript": [
        "$('div#00f773b9-6e48-4411-9710-e6ea49e434e7').width('50%')"
       ],
       "metadata": {},
       "output_type": "display_data",
       "text": [
        "<IPython.core.display.Javascript at 0x7f132ffce910>"
       ]
      },
      {
       "javascript": [
        "$('div#00f773b9-6e48-4411-9710-e6ea49e434e7').width('51%')"
       ],
       "metadata": {},
       "output_type": "display_data",
       "text": [
        "<IPython.core.display.Javascript at 0x7f132ffce8d0>"
       ]
      },
      {
       "javascript": [
        "$('div#00f773b9-6e48-4411-9710-e6ea49e434e7').width('52%')"
       ],
       "metadata": {},
       "output_type": "display_data",
       "text": [
        "<IPython.core.display.Javascript at 0x7f132ffce890>"
       ]
      },
      {
       "javascript": [
        "$('div#00f773b9-6e48-4411-9710-e6ea49e434e7').width('53%')"
       ],
       "metadata": {},
       "output_type": "display_data",
       "text": [
        "<IPython.core.display.Javascript at 0x7f132ffce850>"
       ]
      },
      {
       "javascript": [
        "$('div#00f773b9-6e48-4411-9710-e6ea49e434e7').width('54%')"
       ],
       "metadata": {},
       "output_type": "display_data",
       "text": [
        "<IPython.core.display.Javascript at 0x7f132ffce810>"
       ]
      },
      {
       "javascript": [
        "$('div#00f773b9-6e48-4411-9710-e6ea49e434e7').width('55%')"
       ],
       "metadata": {},
       "output_type": "display_data",
       "text": [
        "<IPython.core.display.Javascript at 0x7f132ffce7d0>"
       ]
      },
      {
       "javascript": [
        "$('div#00f773b9-6e48-4411-9710-e6ea49e434e7').width('56%')"
       ],
       "metadata": {},
       "output_type": "display_data",
       "text": [
        "<IPython.core.display.Javascript at 0x7f132ffce790>"
       ]
      },
      {
       "javascript": [
        "$('div#00f773b9-6e48-4411-9710-e6ea49e434e7').width('57%')"
       ],
       "metadata": {},
       "output_type": "display_data",
       "text": [
        "<IPython.core.display.Javascript at 0x7f132ffce750>"
       ]
      },
      {
       "javascript": [
        "$('div#00f773b9-6e48-4411-9710-e6ea49e434e7').width('58%')"
       ],
       "metadata": {},
       "output_type": "display_data",
       "text": [
        "<IPython.core.display.Javascript at 0x7f132ffce710>"
       ]
      },
      {
       "javascript": [
        "$('div#00f773b9-6e48-4411-9710-e6ea49e434e7').width('59%')"
       ],
       "metadata": {},
       "output_type": "display_data",
       "text": [
        "<IPython.core.display.Javascript at 0x7f132ffce6d0>"
       ]
      },
      {
       "javascript": [
        "$('div#00f773b9-6e48-4411-9710-e6ea49e434e7').width('60%')"
       ],
       "metadata": {},
       "output_type": "display_data",
       "text": [
        "<IPython.core.display.Javascript at 0x7f132ffce690>"
       ]
      },
      {
       "javascript": [
        "$('div#00f773b9-6e48-4411-9710-e6ea49e434e7').width('61%')"
       ],
       "metadata": {},
       "output_type": "display_data",
       "text": [
        "<IPython.core.display.Javascript at 0x7f132ffce650>"
       ]
      },
      {
       "javascript": [
        "$('div#00f773b9-6e48-4411-9710-e6ea49e434e7').width('62%')"
       ],
       "metadata": {},
       "output_type": "display_data",
       "text": [
        "<IPython.core.display.Javascript at 0x7f132ffce610>"
       ]
      },
      {
       "javascript": [
        "$('div#00f773b9-6e48-4411-9710-e6ea49e434e7').width('63%')"
       ],
       "metadata": {},
       "output_type": "display_data",
       "text": [
        "<IPython.core.display.Javascript at 0x7f132ffce5d0>"
       ]
      },
      {
       "javascript": [
        "$('div#00f773b9-6e48-4411-9710-e6ea49e434e7').width('64%')"
       ],
       "metadata": {},
       "output_type": "display_data",
       "text": [
        "<IPython.core.display.Javascript at 0x7f132ffce590>"
       ]
      },
      {
       "javascript": [
        "$('div#00f773b9-6e48-4411-9710-e6ea49e434e7').width('65%')"
       ],
       "metadata": {},
       "output_type": "display_data",
       "text": [
        "<IPython.core.display.Javascript at 0x7f132ffce550>"
       ]
      },
      {
       "javascript": [
        "$('div#00f773b9-6e48-4411-9710-e6ea49e434e7').width('66%')"
       ],
       "metadata": {},
       "output_type": "display_data",
       "text": [
        "<IPython.core.display.Javascript at 0x7f132ffce510>"
       ]
      },
      {
       "javascript": [
        "$('div#00f773b9-6e48-4411-9710-e6ea49e434e7').width('67%')"
       ],
       "metadata": {},
       "output_type": "display_data",
       "text": [
        "<IPython.core.display.Javascript at 0x7f132ffce4d0>"
       ]
      },
      {
       "javascript": [
        "$('div#00f773b9-6e48-4411-9710-e6ea49e434e7').width('68%')"
       ],
       "metadata": {},
       "output_type": "display_data",
       "text": [
        "<IPython.core.display.Javascript at 0x7f132ffce490>"
       ]
      },
      {
       "javascript": [
        "$('div#00f773b9-6e48-4411-9710-e6ea49e434e7').width('69%')"
       ],
       "metadata": {},
       "output_type": "display_data",
       "text": [
        "<IPython.core.display.Javascript at 0x7f132ffce450>"
       ]
      },
      {
       "javascript": [
        "$('div#00f773b9-6e48-4411-9710-e6ea49e434e7').width('70%')"
       ],
       "metadata": {},
       "output_type": "display_data",
       "text": [
        "<IPython.core.display.Javascript at 0x7f132ffce410>"
       ]
      },
      {
       "javascript": [
        "$('div#00f773b9-6e48-4411-9710-e6ea49e434e7').width('71%')"
       ],
       "metadata": {},
       "output_type": "display_data",
       "text": [
        "<IPython.core.display.Javascript at 0x7f132ffce3d0>"
       ]
      },
      {
       "javascript": [
        "$('div#00f773b9-6e48-4411-9710-e6ea49e434e7').width('72%')"
       ],
       "metadata": {},
       "output_type": "display_data",
       "text": [
        "<IPython.core.display.Javascript at 0x7f132ffce390>"
       ]
      },
      {
       "javascript": [
        "$('div#00f773b9-6e48-4411-9710-e6ea49e434e7').width('73%')"
       ],
       "metadata": {},
       "output_type": "display_data",
       "text": [
        "<IPython.core.display.Javascript at 0x7f132ffce350>"
       ]
      },
      {
       "javascript": [
        "$('div#00f773b9-6e48-4411-9710-e6ea49e434e7').width('74%')"
       ],
       "metadata": {},
       "output_type": "display_data",
       "text": [
        "<IPython.core.display.Javascript at 0x7f132ffce310>"
       ]
      },
      {
       "javascript": [
        "$('div#00f773b9-6e48-4411-9710-e6ea49e434e7').width('75%')"
       ],
       "metadata": {},
       "output_type": "display_data",
       "text": [
        "<IPython.core.display.Javascript at 0x7f132ffce2d0>"
       ]
      },
      {
       "javascript": [
        "$('div#00f773b9-6e48-4411-9710-e6ea49e434e7').width('76%')"
       ],
       "metadata": {},
       "output_type": "display_data",
       "text": [
        "<IPython.core.display.Javascript at 0x7f132ffce290>"
       ]
      },
      {
       "javascript": [
        "$('div#00f773b9-6e48-4411-9710-e6ea49e434e7').width('77%')"
       ],
       "metadata": {},
       "output_type": "display_data",
       "text": [
        "<IPython.core.display.Javascript at 0x7f132ffce250>"
       ]
      },
      {
       "javascript": [
        "$('div#00f773b9-6e48-4411-9710-e6ea49e434e7').width('78%')"
       ],
       "metadata": {},
       "output_type": "display_data",
       "text": [
        "<IPython.core.display.Javascript at 0x7f132ffce1d0>"
       ]
      },
      {
       "javascript": [
        "$('div#00f773b9-6e48-4411-9710-e6ea49e434e7').width('79%')"
       ],
       "metadata": {},
       "output_type": "display_data",
       "text": [
        "<IPython.core.display.Javascript at 0x7f132ffce050>"
       ]
      },
      {
       "javascript": [
        "$('div#00f773b9-6e48-4411-9710-e6ea49e434e7').width('80%')"
       ],
       "metadata": {},
       "output_type": "display_data",
       "text": [
        "<IPython.core.display.Javascript at 0x7f132ffce210>"
       ]
      },
      {
       "javascript": [
        "$('div#00f773b9-6e48-4411-9710-e6ea49e434e7').width('81%')"
       ],
       "metadata": {},
       "output_type": "display_data",
       "text": [
        "<IPython.core.display.Javascript at 0x7f132ffce0d0>"
       ]
      },
      {
       "javascript": [
        "$('div#00f773b9-6e48-4411-9710-e6ea49e434e7').width('82%')"
       ],
       "metadata": {},
       "output_type": "display_data",
       "text": [
        "<IPython.core.display.Javascript at 0x7f132ffce090>"
       ]
      },
      {
       "javascript": [
        "$('div#00f773b9-6e48-4411-9710-e6ea49e434e7').width('83%')"
       ],
       "metadata": {},
       "output_type": "display_data",
       "text": [
        "<IPython.core.display.Javascript at 0x7f132ffceb50>"
       ]
      },
      {
       "javascript": [
        "$('div#00f773b9-6e48-4411-9710-e6ea49e434e7').width('84%')"
       ],
       "metadata": {},
       "output_type": "display_data",
       "text": [
        "<IPython.core.display.Javascript at 0x7f132ffceb90>"
       ]
      },
      {
       "javascript": [
        "$('div#00f773b9-6e48-4411-9710-e6ea49e434e7').width('85%')"
       ],
       "metadata": {},
       "output_type": "display_data",
       "text": [
        "<IPython.core.display.Javascript at 0x7f132ffcebd0>"
       ]
      },
      {
       "javascript": [
        "$('div#00f773b9-6e48-4411-9710-e6ea49e434e7').width('86%')"
       ],
       "metadata": {},
       "output_type": "display_data",
       "text": [
        "<IPython.core.display.Javascript at 0x7f132ffcec10>"
       ]
      },
      {
       "javascript": [
        "$('div#00f773b9-6e48-4411-9710-e6ea49e434e7').width('87%')"
       ],
       "metadata": {},
       "output_type": "display_data",
       "text": [
        "<IPython.core.display.Javascript at 0x7f132ffcec50>"
       ]
      },
      {
       "javascript": [
        "$('div#00f773b9-6e48-4411-9710-e6ea49e434e7').width('88%')"
       ],
       "metadata": {},
       "output_type": "display_data",
       "text": [
        "<IPython.core.display.Javascript at 0x7f132ffcec90>"
       ]
      },
      {
       "javascript": [
        "$('div#00f773b9-6e48-4411-9710-e6ea49e434e7').width('89%')"
       ],
       "metadata": {},
       "output_type": "display_data",
       "text": [
        "<IPython.core.display.Javascript at 0x7f132ffcecd0>"
       ]
      },
      {
       "javascript": [
        "$('div#00f773b9-6e48-4411-9710-e6ea49e434e7').width('90%')"
       ],
       "metadata": {},
       "output_type": "display_data",
       "text": [
        "<IPython.core.display.Javascript at 0x7f132ffced10>"
       ]
      },
      {
       "javascript": [
        "$('div#00f773b9-6e48-4411-9710-e6ea49e434e7').width('91%')"
       ],
       "metadata": {},
       "output_type": "display_data",
       "text": [
        "<IPython.core.display.Javascript at 0x7f132ffced50>"
       ]
      },
      {
       "javascript": [
        "$('div#00f773b9-6e48-4411-9710-e6ea49e434e7').width('92%')"
       ],
       "metadata": {},
       "output_type": "display_data",
       "text": [
        "<IPython.core.display.Javascript at 0x7f132ffced90>"
       ]
      },
      {
       "javascript": [
        "$('div#00f773b9-6e48-4411-9710-e6ea49e434e7').width('93%')"
       ],
       "metadata": {},
       "output_type": "display_data",
       "text": [
        "<IPython.core.display.Javascript at 0x7f132ffcedd0>"
       ]
      },
      {
       "javascript": [
        "$('div#00f773b9-6e48-4411-9710-e6ea49e434e7').width('94%')"
       ],
       "metadata": {},
       "output_type": "display_data",
       "text": [
        "<IPython.core.display.Javascript at 0x7f132ffcee10>"
       ]
      },
      {
       "javascript": [
        "$('div#00f773b9-6e48-4411-9710-e6ea49e434e7').width('95%')"
       ],
       "metadata": {},
       "output_type": "display_data",
       "text": [
        "<IPython.core.display.Javascript at 0x7f132ffcee50>"
       ]
      },
      {
       "javascript": [
        "$('div#00f773b9-6e48-4411-9710-e6ea49e434e7').width('96%')"
       ],
       "metadata": {},
       "output_type": "display_data",
       "text": [
        "<IPython.core.display.Javascript at 0x7f132ffcee90>"
       ]
      },
      {
       "javascript": [
        "$('div#00f773b9-6e48-4411-9710-e6ea49e434e7').width('97%')"
       ],
       "metadata": {},
       "output_type": "display_data",
       "text": [
        "<IPython.core.display.Javascript at 0x7f132ffceed0>"
       ]
      },
      {
       "javascript": [
        "$('div#00f773b9-6e48-4411-9710-e6ea49e434e7').width('98%')"
       ],
       "metadata": {},
       "output_type": "display_data",
       "text": [
        "<IPython.core.display.Javascript at 0x7f132ffcef10>"
       ]
      },
      {
       "javascript": [
        "$('div#00f773b9-6e48-4411-9710-e6ea49e434e7').width('99%')"
       ],
       "metadata": {},
       "output_type": "display_data",
       "text": [
        "<IPython.core.display.Javascript at 0x7f132ffcef50>"
       ]
      },
      {
       "javascript": [
        "$('div#00f773b9-6e48-4411-9710-e6ea49e434e7').width('100%')"
       ],
       "metadata": {},
       "output_type": "display_data",
       "text": [
        "<IPython.core.display.Javascript at 0x7f132ffcef90>"
       ]
      }
     ],
     "prompt_number": 1
    }
   ],
   "metadata": {}
  }
 ]
}